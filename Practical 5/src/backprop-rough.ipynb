{
 "cells": [
  {
   "cell_type": "code",
   "execution_count": 1,
   "metadata": {
    "collapsed": true,
    "ExecuteTime": {
     "start_time": "2023-04-16T21:09:26.887548Z",
     "end_time": "2023-04-16T21:09:27.902349Z"
    }
   },
   "outputs": [],
   "source": [
    "import numpy as np\n",
    "import pandas as pd\n",
    "import matplotlib.pyplot as plt"
   ]
  },
  {
   "cell_type": "code",
   "execution_count": 11,
   "outputs": [
    {
     "data": {
      "text/plain": "   SepalLengthCm  SepalWidthCm  PetalLengthCm  PetalWidthCm      Species\n0            5.1           3.5            1.4           0.2  Iris-setosa\n1            4.9           3.0            1.4           0.2  Iris-setosa\n2            4.7           3.2            1.3           0.2  Iris-setosa\n3            4.6           3.1            1.5           0.2  Iris-setosa\n4            5.0           3.6            1.4           0.2  Iris-setosa",
      "text/html": "<div>\n<style scoped>\n    .dataframe tbody tr th:only-of-type {\n        vertical-align: middle;\n    }\n\n    .dataframe tbody tr th {\n        vertical-align: top;\n    }\n\n    .dataframe thead th {\n        text-align: right;\n    }\n</style>\n<table border=\"1\" class=\"dataframe\">\n  <thead>\n    <tr style=\"text-align: right;\">\n      <th></th>\n      <th>SepalLengthCm</th>\n      <th>SepalWidthCm</th>\n      <th>PetalLengthCm</th>\n      <th>PetalWidthCm</th>\n      <th>Species</th>\n    </tr>\n  </thead>\n  <tbody>\n    <tr>\n      <th>0</th>\n      <td>5.1</td>\n      <td>3.5</td>\n      <td>1.4</td>\n      <td>0.2</td>\n      <td>Iris-setosa</td>\n    </tr>\n    <tr>\n      <th>1</th>\n      <td>4.9</td>\n      <td>3.0</td>\n      <td>1.4</td>\n      <td>0.2</td>\n      <td>Iris-setosa</td>\n    </tr>\n    <tr>\n      <th>2</th>\n      <td>4.7</td>\n      <td>3.2</td>\n      <td>1.3</td>\n      <td>0.2</td>\n      <td>Iris-setosa</td>\n    </tr>\n    <tr>\n      <th>3</th>\n      <td>4.6</td>\n      <td>3.1</td>\n      <td>1.5</td>\n      <td>0.2</td>\n      <td>Iris-setosa</td>\n    </tr>\n    <tr>\n      <th>4</th>\n      <td>5.0</td>\n      <td>3.6</td>\n      <td>1.4</td>\n      <td>0.2</td>\n      <td>Iris-setosa</td>\n    </tr>\n  </tbody>\n</table>\n</div>"
     },
     "execution_count": 11,
     "metadata": {},
     "output_type": "execute_result"
    }
   ],
   "source": [
    "data = pd.read_csv('../data/iris.csv')\n",
    "data = data.drop(['Id'], axis=1)\n",
    "data.head()"
   ],
   "metadata": {
    "collapsed": false,
    "ExecuteTime": {
     "start_time": "2023-04-16T21:15:04.425369Z",
     "end_time": "2023-04-16T21:15:04.455255Z"
    }
   }
  },
  {
   "cell_type": "code",
   "execution_count": 12,
   "outputs": [
    {
     "data": {
      "text/plain": "array([[5.1, 3.5, 1.4, 0.2, 'Iris-setosa'],\n       [4.9, 3.0, 1.4, 0.2, 'Iris-setosa'],\n       [4.7, 3.2, 1.3, 0.2, 'Iris-setosa'],\n       [4.6, 3.1, 1.5, 0.2, 'Iris-setosa'],\n       [5.0, 3.6, 1.4, 0.2, 'Iris-setosa'],\n       [5.4, 3.9, 1.7, 0.4, 'Iris-setosa'],\n       [4.6, 3.4, 1.4, 0.3, 'Iris-setosa'],\n       [5.0, 3.4, 1.5, 0.2, 'Iris-setosa'],\n       [4.4, 2.9, 1.4, 0.2, 'Iris-setosa'],\n       [4.9, 3.1, 1.5, 0.1, 'Iris-setosa'],\n       [5.4, 3.7, 1.5, 0.2, 'Iris-setosa'],\n       [4.8, 3.4, 1.6, 0.2, 'Iris-setosa'],\n       [4.8, 3.0, 1.4, 0.1, 'Iris-setosa'],\n       [4.3, 3.0, 1.1, 0.1, 'Iris-setosa'],\n       [5.8, 4.0, 1.2, 0.2, 'Iris-setosa'],\n       [5.7, 4.4, 1.5, 0.4, 'Iris-setosa'],\n       [5.4, 3.9, 1.3, 0.4, 'Iris-setosa'],\n       [5.1, 3.5, 1.4, 0.3, 'Iris-setosa'],\n       [5.7, 3.8, 1.7, 0.3, 'Iris-setosa'],\n       [5.1, 3.8, 1.5, 0.3, 'Iris-setosa'],\n       [5.4, 3.4, 1.7, 0.2, 'Iris-setosa'],\n       [5.1, 3.7, 1.5, 0.4, 'Iris-setosa'],\n       [4.6, 3.6, 1.0, 0.2, 'Iris-setosa'],\n       [5.1, 3.3, 1.7, 0.5, 'Iris-setosa'],\n       [4.8, 3.4, 1.9, 0.2, 'Iris-setosa'],\n       [5.0, 3.0, 1.6, 0.2, 'Iris-setosa'],\n       [5.0, 3.4, 1.6, 0.4, 'Iris-setosa'],\n       [5.2, 3.5, 1.5, 0.2, 'Iris-setosa'],\n       [5.2, 3.4, 1.4, 0.2, 'Iris-setosa'],\n       [4.7, 3.2, 1.6, 0.2, 'Iris-setosa'],\n       [4.8, 3.1, 1.6, 0.2, 'Iris-setosa'],\n       [5.4, 3.4, 1.5, 0.4, 'Iris-setosa'],\n       [5.2, 4.1, 1.5, 0.1, 'Iris-setosa'],\n       [5.5, 4.2, 1.4, 0.2, 'Iris-setosa'],\n       [4.9, 3.1, 1.5, 0.1, 'Iris-setosa'],\n       [5.0, 3.2, 1.2, 0.2, 'Iris-setosa'],\n       [5.5, 3.5, 1.3, 0.2, 'Iris-setosa'],\n       [4.9, 3.1, 1.5, 0.1, 'Iris-setosa'],\n       [4.4, 3.0, 1.3, 0.2, 'Iris-setosa'],\n       [5.1, 3.4, 1.5, 0.2, 'Iris-setosa'],\n       [5.0, 3.5, 1.3, 0.3, 'Iris-setosa'],\n       [4.5, 2.3, 1.3, 0.3, 'Iris-setosa'],\n       [4.4, 3.2, 1.3, 0.2, 'Iris-setosa'],\n       [5.0, 3.5, 1.6, 0.6, 'Iris-setosa'],\n       [5.1, 3.8, 1.9, 0.4, 'Iris-setosa'],\n       [4.8, 3.0, 1.4, 0.3, 'Iris-setosa'],\n       [5.1, 3.8, 1.6, 0.2, 'Iris-setosa'],\n       [4.6, 3.2, 1.4, 0.2, 'Iris-setosa'],\n       [5.3, 3.7, 1.5, 0.2, 'Iris-setosa'],\n       [5.0, 3.3, 1.4, 0.2, 'Iris-setosa'],\n       [7.0, 3.2, 4.7, 1.4, 'Iris-versicolor'],\n       [6.4, 3.2, 4.5, 1.5, 'Iris-versicolor'],\n       [6.9, 3.1, 4.9, 1.5, 'Iris-versicolor'],\n       [5.5, 2.3, 4.0, 1.3, 'Iris-versicolor'],\n       [6.5, 2.8, 4.6, 1.5, 'Iris-versicolor'],\n       [5.7, 2.8, 4.5, 1.3, 'Iris-versicolor'],\n       [6.3, 3.3, 4.7, 1.6, 'Iris-versicolor'],\n       [4.9, 2.4, 3.3, 1.0, 'Iris-versicolor'],\n       [6.6, 2.9, 4.6, 1.3, 'Iris-versicolor'],\n       [5.2, 2.7, 3.9, 1.4, 'Iris-versicolor'],\n       [5.0, 2.0, 3.5, 1.0, 'Iris-versicolor'],\n       [5.9, 3.0, 4.2, 1.5, 'Iris-versicolor'],\n       [6.0, 2.2, 4.0, 1.0, 'Iris-versicolor'],\n       [6.1, 2.9, 4.7, 1.4, 'Iris-versicolor'],\n       [5.6, 2.9, 3.6, 1.3, 'Iris-versicolor'],\n       [6.7, 3.1, 4.4, 1.4, 'Iris-versicolor'],\n       [5.6, 3.0, 4.5, 1.5, 'Iris-versicolor'],\n       [5.8, 2.7, 4.1, 1.0, 'Iris-versicolor'],\n       [6.2, 2.2, 4.5, 1.5, 'Iris-versicolor'],\n       [5.6, 2.5, 3.9, 1.1, 'Iris-versicolor'],\n       [5.9, 3.2, 4.8, 1.8, 'Iris-versicolor'],\n       [6.1, 2.8, 4.0, 1.3, 'Iris-versicolor'],\n       [6.3, 2.5, 4.9, 1.5, 'Iris-versicolor'],\n       [6.1, 2.8, 4.7, 1.2, 'Iris-versicolor'],\n       [6.4, 2.9, 4.3, 1.3, 'Iris-versicolor'],\n       [6.6, 3.0, 4.4, 1.4, 'Iris-versicolor'],\n       [6.8, 2.8, 4.8, 1.4, 'Iris-versicolor'],\n       [6.7, 3.0, 5.0, 1.7, 'Iris-versicolor'],\n       [6.0, 2.9, 4.5, 1.5, 'Iris-versicolor'],\n       [5.7, 2.6, 3.5, 1.0, 'Iris-versicolor'],\n       [5.5, 2.4, 3.8, 1.1, 'Iris-versicolor'],\n       [5.5, 2.4, 3.7, 1.0, 'Iris-versicolor'],\n       [5.8, 2.7, 3.9, 1.2, 'Iris-versicolor'],\n       [6.0, 2.7, 5.1, 1.6, 'Iris-versicolor'],\n       [5.4, 3.0, 4.5, 1.5, 'Iris-versicolor'],\n       [6.0, 3.4, 4.5, 1.6, 'Iris-versicolor'],\n       [6.7, 3.1, 4.7, 1.5, 'Iris-versicolor'],\n       [6.3, 2.3, 4.4, 1.3, 'Iris-versicolor'],\n       [5.6, 3.0, 4.1, 1.3, 'Iris-versicolor'],\n       [5.5, 2.5, 4.0, 1.3, 'Iris-versicolor'],\n       [5.5, 2.6, 4.4, 1.2, 'Iris-versicolor'],\n       [6.1, 3.0, 4.6, 1.4, 'Iris-versicolor'],\n       [5.8, 2.6, 4.0, 1.2, 'Iris-versicolor'],\n       [5.0, 2.3, 3.3, 1.0, 'Iris-versicolor'],\n       [5.6, 2.7, 4.2, 1.3, 'Iris-versicolor'],\n       [5.7, 3.0, 4.2, 1.2, 'Iris-versicolor'],\n       [5.7, 2.9, 4.2, 1.3, 'Iris-versicolor'],\n       [6.2, 2.9, 4.3, 1.3, 'Iris-versicolor'],\n       [5.1, 2.5, 3.0, 1.1, 'Iris-versicolor'],\n       [5.7, 2.8, 4.1, 1.3, 'Iris-versicolor'],\n       [6.3, 3.3, 6.0, 2.5, 'Iris-virginica'],\n       [5.8, 2.7, 5.1, 1.9, 'Iris-virginica'],\n       [7.1, 3.0, 5.9, 2.1, 'Iris-virginica'],\n       [6.3, 2.9, 5.6, 1.8, 'Iris-virginica'],\n       [6.5, 3.0, 5.8, 2.2, 'Iris-virginica'],\n       [7.6, 3.0, 6.6, 2.1, 'Iris-virginica'],\n       [4.9, 2.5, 4.5, 1.7, 'Iris-virginica'],\n       [7.3, 2.9, 6.3, 1.8, 'Iris-virginica'],\n       [6.7, 2.5, 5.8, 1.8, 'Iris-virginica'],\n       [7.2, 3.6, 6.1, 2.5, 'Iris-virginica'],\n       [6.5, 3.2, 5.1, 2.0, 'Iris-virginica'],\n       [6.4, 2.7, 5.3, 1.9, 'Iris-virginica'],\n       [6.8, 3.0, 5.5, 2.1, 'Iris-virginica'],\n       [5.7, 2.5, 5.0, 2.0, 'Iris-virginica'],\n       [5.8, 2.8, 5.1, 2.4, 'Iris-virginica'],\n       [6.4, 3.2, 5.3, 2.3, 'Iris-virginica'],\n       [6.5, 3.0, 5.5, 1.8, 'Iris-virginica'],\n       [7.7, 3.8, 6.7, 2.2, 'Iris-virginica'],\n       [7.7, 2.6, 6.9, 2.3, 'Iris-virginica'],\n       [6.0, 2.2, 5.0, 1.5, 'Iris-virginica'],\n       [6.9, 3.2, 5.7, 2.3, 'Iris-virginica'],\n       [5.6, 2.8, 4.9, 2.0, 'Iris-virginica'],\n       [7.7, 2.8, 6.7, 2.0, 'Iris-virginica'],\n       [6.3, 2.7, 4.9, 1.8, 'Iris-virginica'],\n       [6.7, 3.3, 5.7, 2.1, 'Iris-virginica'],\n       [7.2, 3.2, 6.0, 1.8, 'Iris-virginica'],\n       [6.2, 2.8, 4.8, 1.8, 'Iris-virginica'],\n       [6.1, 3.0, 4.9, 1.8, 'Iris-virginica'],\n       [6.4, 2.8, 5.6, 2.1, 'Iris-virginica'],\n       [7.2, 3.0, 5.8, 1.6, 'Iris-virginica'],\n       [7.4, 2.8, 6.1, 1.9, 'Iris-virginica'],\n       [7.9, 3.8, 6.4, 2.0, 'Iris-virginica'],\n       [6.4, 2.8, 5.6, 2.2, 'Iris-virginica'],\n       [6.3, 2.8, 5.1, 1.5, 'Iris-virginica'],\n       [6.1, 2.6, 5.6, 1.4, 'Iris-virginica'],\n       [7.7, 3.0, 6.1, 2.3, 'Iris-virginica'],\n       [6.3, 3.4, 5.6, 2.4, 'Iris-virginica'],\n       [6.4, 3.1, 5.5, 1.8, 'Iris-virginica'],\n       [6.0, 3.0, 4.8, 1.8, 'Iris-virginica'],\n       [6.9, 3.1, 5.4, 2.1, 'Iris-virginica'],\n       [6.7, 3.1, 5.6, 2.4, 'Iris-virginica'],\n       [6.9, 3.1, 5.1, 2.3, 'Iris-virginica'],\n       [5.8, 2.7, 5.1, 1.9, 'Iris-virginica'],\n       [6.8, 3.2, 5.9, 2.3, 'Iris-virginica'],\n       [6.7, 3.3, 5.7, 2.5, 'Iris-virginica'],\n       [6.7, 3.0, 5.2, 2.3, 'Iris-virginica'],\n       [6.3, 2.5, 5.0, 1.9, 'Iris-virginica'],\n       [6.5, 3.0, 5.2, 2.0, 'Iris-virginica'],\n       [6.2, 3.4, 5.4, 2.3, 'Iris-virginica'],\n       [5.9, 3.0, 5.1, 1.8, 'Iris-virginica']], dtype=object)"
     },
     "execution_count": 12,
     "metadata": {},
     "output_type": "execute_result"
    }
   ],
   "source": [
    "data = np.array(data)\n",
    "m, n = data.shape\n",
    "data"
   ],
   "metadata": {
    "collapsed": false,
    "ExecuteTime": {
     "start_time": "2023-04-16T21:15:14.030499Z",
     "end_time": "2023-04-16T21:15:14.057042Z"
    }
   }
  },
  {
   "cell_type": "code",
   "execution_count": 13,
   "outputs": [
    {
     "name": "stdout",
     "output_type": "stream",
     "text": [
      "shape of data 150x5\n"
     ]
    }
   ],
   "source": [
    "print(f\"shape of data {m}x{n}\")"
   ],
   "metadata": {
    "collapsed": false,
    "ExecuteTime": {
     "start_time": "2023-04-16T21:15:39.881856Z",
     "end_time": "2023-04-16T21:15:39.903756Z"
    }
   }
  },
  {
   "cell_type": "code",
   "execution_count": 16,
   "outputs": [],
   "source": [
    "data_train = data[0:125].T\n",
    "X_train = data_train[:-1]\n",
    "Y_train = data_train[-1]"
   ],
   "metadata": {
    "collapsed": false,
    "ExecuteTime": {
     "start_time": "2023-04-16T21:19:35.427155Z",
     "end_time": "2023-04-16T21:19:35.440543Z"
    }
   }
  },
  {
   "cell_type": "code",
   "execution_count": 47,
   "outputs": [
    {
     "data": {
      "text/plain": "(4,)"
     },
     "execution_count": 47,
     "metadata": {},
     "output_type": "execute_result"
    }
   ],
   "source": [
    "X_train[:, 0].shape"
   ],
   "metadata": {
    "collapsed": false,
    "ExecuteTime": {
     "start_time": "2023-04-16T22:24:16.455083Z",
     "end_time": "2023-04-16T22:24:16.487740Z"
    }
   }
  },
  {
   "cell_type": "code",
   "execution_count": 1,
   "outputs": [
    {
     "ename": "NameError",
     "evalue": "name 'np' is not defined",
     "output_type": "error",
     "traceback": [
      "\u001B[1;31m---------------------------------------------------------------------------\u001B[0m",
      "\u001B[1;31mNameError\u001B[0m                                 Traceback (most recent call last)",
      "Input \u001B[1;32mIn [1]\u001B[0m, in \u001B[0;36m<cell line: 4>\u001B[1;34m()\u001B[0m\n\u001B[0;32m      1\u001B[0m label_map \u001B[38;5;241m=\u001B[39m \u001B[38;5;28;01mlambda\u001B[39;00m x: {\u001B[38;5;124m'\u001B[39m\u001B[38;5;124mIris-setosa\u001B[39m\u001B[38;5;124m'\u001B[39m: \u001B[38;5;241m0\u001B[39m, \u001B[38;5;124m'\u001B[39m\u001B[38;5;124mIris-versicolor\u001B[39m\u001B[38;5;124m'\u001B[39m: \u001B[38;5;241m1\u001B[39m, \u001B[38;5;124m'\u001B[39m\u001B[38;5;124mIris-virginica\u001B[39m\u001B[38;5;124m'\u001B[39m: \u001B[38;5;241m2\u001B[39m}[x]\n\u001B[0;32m      3\u001B[0m \u001B[38;5;66;03m# Use the lambda function to convert the labels to numerical values\u001B[39;00m\n\u001B[1;32m----> 4\u001B[0m Y_train \u001B[38;5;241m=\u001B[39m \u001B[43mnp\u001B[49m\u001B[38;5;241m.\u001B[39marray(\u001B[38;5;28mlist\u001B[39m(\u001B[38;5;28mmap\u001B[39m(label_map, Y_train)))\n",
      "\u001B[1;31mNameError\u001B[0m: name 'np' is not defined"
     ]
    }
   ],
   "source": [
    "label_map = lambda x: {'Iris-setosa': 0, 'Iris-versicolor': 1, 'Iris-virginica': 2}[x]\n",
    "\n",
    "# Use the lambda function to convert the labels to numerical values\n",
    "Y_train = np.array(list(map(label_map, Y_train)))"
   ],
   "metadata": {
    "collapsed": false,
    "ExecuteTime": {
     "start_time": "2023-04-16T21:58:56.884076Z",
     "end_time": "2023-04-16T21:58:56.920071Z"
    }
   }
  },
  {
   "cell_type": "code",
   "execution_count": 48,
   "outputs": [
    {
     "data": {
      "text/plain": "(125, 3)"
     },
     "execution_count": 48,
     "metadata": {},
     "output_type": "execute_result"
    }
   ],
   "source": [
    "Y_train.shape"
   ],
   "metadata": {
    "collapsed": false,
    "ExecuteTime": {
     "start_time": "2023-04-16T22:24:21.829975Z",
     "end_time": "2023-04-16T22:24:21.864600Z"
    }
   }
  },
  {
   "cell_type": "code",
   "execution_count": 35,
   "outputs": [],
   "source": [
    "y = np.zeros((len(Y_train), 3))\n",
    "\n",
    "for i, label in enumerate(Y_train):\n",
    "    y[i, label] = 1\n",
    "\n",
    "Y_train = y"
   ],
   "metadata": {
    "collapsed": false,
    "ExecuteTime": {
     "start_time": "2023-04-16T22:03:43.938696Z",
     "end_time": "2023-04-16T22:03:43.964164Z"
    }
   }
  },
  {
   "cell_type": "code",
   "execution_count": 61,
   "outputs": [],
   "source": [
    "def init_params():\n",
    "    W1 = np.random.randn(5, 4)\n",
    "    b1 = np.random.randn(5, 1)\n",
    "    W2 = np.random.randn(3, 5)\n",
    "    b2 = np.random.randn(3, 1)\n",
    "\n",
    "    return W1, b1, W2, b2"
   ],
   "metadata": {
    "collapsed": false,
    "ExecuteTime": {
     "start_time": "2023-04-16T22:25:35.451790Z",
     "end_time": "2023-04-16T22:25:35.480483Z"
    }
   }
  },
  {
   "cell_type": "code",
   "execution_count": 70,
   "outputs": [],
   "source": [
    "def ReLU(H, deriv=False):\n",
    "    if deriv:\n",
    "        return H > 0\n",
    "\n",
    "    return np.maximum(0.0, H)"
   ],
   "metadata": {
    "collapsed": false,
    "ExecuteTime": {
     "start_time": "2023-04-16T22:30:43.580079Z",
     "end_time": "2023-04-16T22:30:43.589166Z"
    }
   }
  },
  {
   "cell_type": "code",
   "execution_count": 74,
   "outputs": [],
   "source": [
    "def SoftMax(H):\n",
    "    return np.exp(H.astype(np.float64)) / np.sum(np.exp(H.astype(np.float64)))"
   ],
   "metadata": {
    "collapsed": false,
    "ExecuteTime": {
     "start_time": "2023-04-16T22:32:41.387246Z",
     "end_time": "2023-04-16T22:32:41.431761Z"
    }
   }
  },
  {
   "cell_type": "code",
   "execution_count": 72,
   "outputs": [],
   "source": [
    "def forward_propagation(W1, b1, W2, b2, X):\n",
    "    H0 = W1.dot(X) + b1\n",
    "    # print(H0)\n",
    "    H0_hat = ReLU(H0)\n",
    "    # print(H0_hat)\n",
    "    X0_dash = W2.dot(H0_hat) + b2\n",
    "    X0_hat = SoftMax(X0_dash)\n",
    "\n",
    "    return H0, H0_hat, X0_dash, X0_hat"
   ],
   "metadata": {
    "collapsed": false,
    "ExecuteTime": {
     "start_time": "2023-04-16T22:31:07.379094Z",
     "end_time": "2023-04-16T22:31:07.391095Z"
    }
   }
  },
  {
   "cell_type": "code",
   "execution_count": 78,
   "outputs": [],
   "source": [
    "def backward_propagation(H0, H0_hat, X0_dash, X0_hat, W2, X, Y):\n",
    "    m = Y.size\n",
    "    dX0_hat = X0_hat - Y.T\n",
    "    dW2 = 1 / m * dX0_hat.dot(H0_hat.T)\n",
    "    db2 = 1 / m * np.sum(dX0_hat)\n",
    "    dH0 = W2.T.dot(dX0_hat) * ReLU(H0, deriv=True)\n",
    "    dW1 = 1 / m * dH0.dot(X.T)\n",
    "    db1 = 1 / m * np.sum(dH0)\n",
    "\n",
    "    return dW1, db1, dW2, db2"
   ],
   "metadata": {
    "collapsed": false,
    "ExecuteTime": {
     "start_time": "2023-04-16T22:34:10.591263Z",
     "end_time": "2023-04-16T22:34:10.641980Z"
    }
   }
  },
  {
   "cell_type": "code",
   "execution_count": 54,
   "outputs": [],
   "source": [
    "def update_params(W1, b1, W2, b2, dW1, db1, dW2, db2, lr):\n",
    "    W1 = W1 - lr * dW1\n",
    "    b1 = b1 - lr * db1\n",
    "    W2 = W2 - lr * dW2\n",
    "    b2 = b2 - lr * db2\n",
    "\n",
    "    return W1, b1, W2, b2\n"
   ],
   "metadata": {
    "collapsed": false,
    "ExecuteTime": {
     "start_time": "2023-04-16T22:24:32.032817Z",
     "end_time": "2023-04-16T22:24:32.052869Z"
    }
   }
  },
  {
   "cell_type": "code",
   "execution_count": 55,
   "outputs": [],
   "source": [
    "def get_predictions(X0_hat):\n",
    "    return np.argmax(X0_hat, 0)"
   ],
   "metadata": {
    "collapsed": false,
    "ExecuteTime": {
     "start_time": "2023-04-16T22:24:32.549735Z",
     "end_time": "2023-04-16T22:24:32.558732Z"
    }
   }
  },
  {
   "cell_type": "code",
   "execution_count": 56,
   "outputs": [],
   "source": [
    "def get_accuracy(predictions, Y):\n",
    "    print(predictions, Y)\n",
    "    return np.sum(predictions == Y) / Y.size"
   ],
   "metadata": {
    "collapsed": false,
    "ExecuteTime": {
     "start_time": "2023-04-16T22:24:33.191758Z",
     "end_time": "2023-04-16T22:24:33.211797Z"
    }
   }
  },
  {
   "cell_type": "code",
   "execution_count": 80,
   "outputs": [],
   "source": [
    "def Train(X, Y, iterations, lr):\n",
    "    W1, b1, W2, b2 = init_params()\n",
    "\n",
    "    for iteration in range(iterations):\n",
    "        H0, H0_hat, X0_dash, X0_hat = forward_propagation(W1, b1, W2, b2, X)\n",
    "        dW1, db1, dW2, db2 = backward_propagation(H0, H0_hat, X0_dash, X0_dash, W2, X, Y)\n",
    "\n",
    "        W1, b1, W2, b2 = update_params(W1, b1, W2, b2, dW1, db1, dW2, db2, lr)\n",
    "\n",
    "        if iteration % 10 == 0:\n",
    "            print(f\"iter : {i}\\naccuracy : {get_accuracy(get_predictions(X0_hat), Y)}\")\n",
    "\n",
    "        return W1, b1, W2, b2"
   ],
   "metadata": {
    "collapsed": false,
    "ExecuteTime": {
     "start_time": "2023-04-16T22:34:48.651282Z",
     "end_time": "2023-04-16T22:34:48.673599Z"
    }
   }
  },
  {
   "cell_type": "code",
   "execution_count": 79,
   "outputs": [
    {
     "name": "stdout",
     "output_type": "stream",
     "text": [
      "[0 0 0 0 0 0 0 0 0 0 0 0 0 0 0 0 0 0 0 0 0 0 0 0 0 0 0 0 0 0 0 0 0 0 0 0 0\n",
      " 0 0 0 0 0 0 0 0 0 0 0 0 0 0 1 1 1 1 1 1 0 0 1 0 1 0 1 0 0 1 0 1 0 1 0 1 0\n",
      " 0 0 1 1 1 0 0 0 0 1 1 1 1 1 0 1 1 1 0 0 1 0 0 0 0 0 1 1 1 1 1 1 1 1 1 1 1\n",
      " 1 1 1 1 1 1 1 1 1 1 1 1 1 1] [[1. 0. 0.]\n",
      " [1. 0. 0.]\n",
      " [1. 0. 0.]\n",
      " [1. 0. 0.]\n",
      " [1. 0. 0.]\n",
      " [1. 0. 0.]\n",
      " [1. 0. 0.]\n",
      " [1. 0. 0.]\n",
      " [1. 0. 0.]\n",
      " [1. 0. 0.]\n",
      " [1. 0. 0.]\n",
      " [1. 0. 0.]\n",
      " [1. 0. 0.]\n",
      " [1. 0. 0.]\n",
      " [1. 0. 0.]\n",
      " [1. 0. 0.]\n",
      " [1. 0. 0.]\n",
      " [1. 0. 0.]\n",
      " [1. 0. 0.]\n",
      " [1. 0. 0.]\n",
      " [1. 0. 0.]\n",
      " [1. 0. 0.]\n",
      " [1. 0. 0.]\n",
      " [1. 0. 0.]\n",
      " [1. 0. 0.]\n",
      " [1. 0. 0.]\n",
      " [1. 0. 0.]\n",
      " [1. 0. 0.]\n",
      " [1. 0. 0.]\n",
      " [1. 0. 0.]\n",
      " [1. 0. 0.]\n",
      " [1. 0. 0.]\n",
      " [1. 0. 0.]\n",
      " [1. 0. 0.]\n",
      " [1. 0. 0.]\n",
      " [1. 0. 0.]\n",
      " [1. 0. 0.]\n",
      " [1. 0. 0.]\n",
      " [1. 0. 0.]\n",
      " [1. 0. 0.]\n",
      " [1. 0. 0.]\n",
      " [1. 0. 0.]\n",
      " [1. 0. 0.]\n",
      " [1. 0. 0.]\n",
      " [1. 0. 0.]\n",
      " [1. 0. 0.]\n",
      " [1. 0. 0.]\n",
      " [1. 0. 0.]\n",
      " [1. 0. 0.]\n",
      " [1. 0. 0.]\n",
      " [0. 1. 0.]\n",
      " [0. 1. 0.]\n",
      " [0. 1. 0.]\n",
      " [0. 1. 0.]\n",
      " [0. 1. 0.]\n",
      " [0. 1. 0.]\n",
      " [0. 1. 0.]\n",
      " [0. 1. 0.]\n",
      " [0. 1. 0.]\n",
      " [0. 1. 0.]\n",
      " [0. 1. 0.]\n",
      " [0. 1. 0.]\n",
      " [0. 1. 0.]\n",
      " [0. 1. 0.]\n",
      " [0. 1. 0.]\n",
      " [0. 1. 0.]\n",
      " [0. 1. 0.]\n",
      " [0. 1. 0.]\n",
      " [0. 1. 0.]\n",
      " [0. 1. 0.]\n",
      " [0. 1. 0.]\n",
      " [0. 1. 0.]\n",
      " [0. 1. 0.]\n",
      " [0. 1. 0.]\n",
      " [0. 1. 0.]\n",
      " [0. 1. 0.]\n",
      " [0. 1. 0.]\n",
      " [0. 1. 0.]\n",
      " [0. 1. 0.]\n",
      " [0. 1. 0.]\n",
      " [0. 1. 0.]\n",
      " [0. 1. 0.]\n",
      " [0. 1. 0.]\n",
      " [0. 1. 0.]\n",
      " [0. 1. 0.]\n",
      " [0. 1. 0.]\n",
      " [0. 1. 0.]\n",
      " [0. 1. 0.]\n",
      " [0. 1. 0.]\n",
      " [0. 1. 0.]\n",
      " [0. 1. 0.]\n",
      " [0. 1. 0.]\n",
      " [0. 1. 0.]\n",
      " [0. 1. 0.]\n",
      " [0. 1. 0.]\n",
      " [0. 1. 0.]\n",
      " [0. 1. 0.]\n",
      " [0. 1. 0.]\n",
      " [0. 1. 0.]\n",
      " [0. 1. 0.]\n",
      " [0. 0. 1.]\n",
      " [0. 0. 1.]\n",
      " [0. 0. 1.]\n",
      " [0. 0. 1.]\n",
      " [0. 0. 1.]\n",
      " [0. 0. 1.]\n",
      " [0. 0. 1.]\n",
      " [0. 0. 1.]\n",
      " [0. 0. 1.]\n",
      " [0. 0. 1.]\n",
      " [0. 0. 1.]\n",
      " [0. 0. 1.]\n",
      " [0. 0. 1.]\n",
      " [0. 0. 1.]\n",
      " [0. 0. 1.]\n",
      " [0. 0. 1.]\n",
      " [0. 0. 1.]\n",
      " [0. 0. 1.]\n",
      " [0. 0. 1.]\n",
      " [0. 0. 1.]\n",
      " [0. 0. 1.]\n",
      " [0. 0. 1.]\n",
      " [0. 0. 1.]\n",
      " [0. 0. 1.]\n",
      " [0. 0. 1.]]\n",
      "iter : 124\n",
      "accuracy : 0.0\n"
     ]
    },
    {
     "name": "stderr",
     "output_type": "stream",
     "text": [
      "C:\\Users\\SHANTANU\\AppData\\Local\\Temp\\ipykernel_6180\\1162300153.py:3: DeprecationWarning: elementwise comparison failed; this will raise an error in the future.\n",
      "  return np.sum(predictions == Y) / Y.size\n"
     ]
    }
   ],
   "source": [
    "W1, b1, W2, b2 = Train(X_train, Y_train, 500, 0.1)"
   ],
   "metadata": {
    "collapsed": false,
    "ExecuteTime": {
     "start_time": "2023-04-16T22:34:12.885299Z",
     "end_time": "2023-04-16T22:34:12.943074Z"
    }
   }
  },
  {
   "cell_type": "code",
   "execution_count": 46,
   "outputs": [
    {
     "data": {
      "text/plain": "(array([[5.1, 4.9, 4.7, 4.6, 5.0, 5.4, 4.6, 5.0, 4.4, 4.9, 5.4, 4.8, 4.8,\n         4.3, 5.8, 5.7, 5.4, 5.1, 5.7, 5.1, 5.4, 5.1, 4.6, 5.1, 4.8, 5.0,\n         5.0, 5.2, 5.2, 4.7, 4.8, 5.4, 5.2, 5.5, 4.9, 5.0, 5.5, 4.9, 4.4,\n         5.1, 5.0, 4.5, 4.4, 5.0, 5.1, 4.8, 5.1, 4.6, 5.3, 5.0, 7.0, 6.4,\n         6.9, 5.5, 6.5, 5.7, 6.3, 4.9, 6.6, 5.2, 5.0, 5.9, 6.0, 6.1, 5.6,\n         6.7, 5.6, 5.8, 6.2, 5.6, 5.9, 6.1, 6.3, 6.1, 6.4, 6.6, 6.8, 6.7,\n         6.0, 5.7, 5.5, 5.5, 5.8, 6.0, 5.4, 6.0, 6.7, 6.3, 5.6, 5.5, 5.5,\n         6.1, 5.8, 5.0, 5.6, 5.7, 5.7, 6.2, 5.1, 5.7, 6.3, 5.8, 7.1, 6.3,\n         6.5, 7.6, 4.9, 7.3, 6.7, 7.2, 6.5, 6.4, 6.8, 5.7, 5.8, 6.4, 6.5,\n         7.7, 7.7, 6.0, 6.9, 5.6, 7.7, 6.3, 6.7],\n        [3.5, 3.0, 3.2, 3.1, 3.6, 3.9, 3.4, 3.4, 2.9, 3.1, 3.7, 3.4, 3.0,\n         3.0, 4.0, 4.4, 3.9, 3.5, 3.8, 3.8, 3.4, 3.7, 3.6, 3.3, 3.4, 3.0,\n         3.4, 3.5, 3.4, 3.2, 3.1, 3.4, 4.1, 4.2, 3.1, 3.2, 3.5, 3.1, 3.0,\n         3.4, 3.5, 2.3, 3.2, 3.5, 3.8, 3.0, 3.8, 3.2, 3.7, 3.3, 3.2, 3.2,\n         3.1, 2.3, 2.8, 2.8, 3.3, 2.4, 2.9, 2.7, 2.0, 3.0, 2.2, 2.9, 2.9,\n         3.1, 3.0, 2.7, 2.2, 2.5, 3.2, 2.8, 2.5, 2.8, 2.9, 3.0, 2.8, 3.0,\n         2.9, 2.6, 2.4, 2.4, 2.7, 2.7, 3.0, 3.4, 3.1, 2.3, 3.0, 2.5, 2.6,\n         3.0, 2.6, 2.3, 2.7, 3.0, 2.9, 2.9, 2.5, 2.8, 3.3, 2.7, 3.0, 2.9,\n         3.0, 3.0, 2.5, 2.9, 2.5, 3.6, 3.2, 2.7, 3.0, 2.5, 2.8, 3.2, 3.0,\n         3.8, 2.6, 2.2, 3.2, 2.8, 2.8, 2.7, 3.3],\n        [1.4, 1.4, 1.3, 1.5, 1.4, 1.7, 1.4, 1.5, 1.4, 1.5, 1.5, 1.6, 1.4,\n         1.1, 1.2, 1.5, 1.3, 1.4, 1.7, 1.5, 1.7, 1.5, 1.0, 1.7, 1.9, 1.6,\n         1.6, 1.5, 1.4, 1.6, 1.6, 1.5, 1.5, 1.4, 1.5, 1.2, 1.3, 1.5, 1.3,\n         1.5, 1.3, 1.3, 1.3, 1.6, 1.9, 1.4, 1.6, 1.4, 1.5, 1.4, 4.7, 4.5,\n         4.9, 4.0, 4.6, 4.5, 4.7, 3.3, 4.6, 3.9, 3.5, 4.2, 4.0, 4.7, 3.6,\n         4.4, 4.5, 4.1, 4.5, 3.9, 4.8, 4.0, 4.9, 4.7, 4.3, 4.4, 4.8, 5.0,\n         4.5, 3.5, 3.8, 3.7, 3.9, 5.1, 4.5, 4.5, 4.7, 4.4, 4.1, 4.0, 4.4,\n         4.6, 4.0, 3.3, 4.2, 4.2, 4.2, 4.3, 3.0, 4.1, 6.0, 5.1, 5.9, 5.6,\n         5.8, 6.6, 4.5, 6.3, 5.8, 6.1, 5.1, 5.3, 5.5, 5.0, 5.1, 5.3, 5.5,\n         6.7, 6.9, 5.0, 5.7, 4.9, 6.7, 4.9, 5.7],\n        [0.2, 0.2, 0.2, 0.2, 0.2, 0.4, 0.3, 0.2, 0.2, 0.1, 0.2, 0.2, 0.1,\n         0.1, 0.2, 0.4, 0.4, 0.3, 0.3, 0.3, 0.2, 0.4, 0.2, 0.5, 0.2, 0.2,\n         0.4, 0.2, 0.2, 0.2, 0.2, 0.4, 0.1, 0.2, 0.1, 0.2, 0.2, 0.1, 0.2,\n         0.2, 0.3, 0.3, 0.2, 0.6, 0.4, 0.3, 0.2, 0.2, 0.2, 0.2, 1.4, 1.5,\n         1.5, 1.3, 1.5, 1.3, 1.6, 1.0, 1.3, 1.4, 1.0, 1.5, 1.0, 1.4, 1.3,\n         1.4, 1.5, 1.0, 1.5, 1.1, 1.8, 1.3, 1.5, 1.2, 1.3, 1.4, 1.4, 1.7,\n         1.5, 1.0, 1.1, 1.0, 1.2, 1.6, 1.5, 1.6, 1.5, 1.3, 1.3, 1.3, 1.2,\n         1.4, 1.2, 1.0, 1.3, 1.2, 1.3, 1.3, 1.1, 1.3, 2.5, 1.9, 2.1, 1.8,\n         2.2, 2.1, 1.7, 1.8, 1.8, 2.5, 2.0, 1.9, 2.1, 2.0, 2.4, 2.3, 1.8,\n         2.2, 2.3, 1.5, 2.3, 2.0, 2.0, 1.8, 2.1]], dtype=object),\n array([[1., 0., 0.],\n        [1., 0., 0.],\n        [1., 0., 0.],\n        [1., 0., 0.],\n        [1., 0., 0.],\n        [1., 0., 0.],\n        [1., 0., 0.],\n        [1., 0., 0.],\n        [1., 0., 0.],\n        [1., 0., 0.],\n        [1., 0., 0.],\n        [1., 0., 0.],\n        [1., 0., 0.],\n        [1., 0., 0.],\n        [1., 0., 0.],\n        [1., 0., 0.],\n        [1., 0., 0.],\n        [1., 0., 0.],\n        [1., 0., 0.],\n        [1., 0., 0.],\n        [1., 0., 0.],\n        [1., 0., 0.],\n        [1., 0., 0.],\n        [1., 0., 0.],\n        [1., 0., 0.],\n        [1., 0., 0.],\n        [1., 0., 0.],\n        [1., 0., 0.],\n        [1., 0., 0.],\n        [1., 0., 0.],\n        [1., 0., 0.],\n        [1., 0., 0.],\n        [1., 0., 0.],\n        [1., 0., 0.],\n        [1., 0., 0.],\n        [1., 0., 0.],\n        [1., 0., 0.],\n        [1., 0., 0.],\n        [1., 0., 0.],\n        [1., 0., 0.],\n        [1., 0., 0.],\n        [1., 0., 0.],\n        [1., 0., 0.],\n        [1., 0., 0.],\n        [1., 0., 0.],\n        [1., 0., 0.],\n        [1., 0., 0.],\n        [1., 0., 0.],\n        [1., 0., 0.],\n        [1., 0., 0.],\n        [0., 1., 0.],\n        [0., 1., 0.],\n        [0., 1., 0.],\n        [0., 1., 0.],\n        [0., 1., 0.],\n        [0., 1., 0.],\n        [0., 1., 0.],\n        [0., 1., 0.],\n        [0., 1., 0.],\n        [0., 1., 0.],\n        [0., 1., 0.],\n        [0., 1., 0.],\n        [0., 1., 0.],\n        [0., 1., 0.],\n        [0., 1., 0.],\n        [0., 1., 0.],\n        [0., 1., 0.],\n        [0., 1., 0.],\n        [0., 1., 0.],\n        [0., 1., 0.],\n        [0., 1., 0.],\n        [0., 1., 0.],\n        [0., 1., 0.],\n        [0., 1., 0.],\n        [0., 1., 0.],\n        [0., 1., 0.],\n        [0., 1., 0.],\n        [0., 1., 0.],\n        [0., 1., 0.],\n        [0., 1., 0.],\n        [0., 1., 0.],\n        [0., 1., 0.],\n        [0., 1., 0.],\n        [0., 1., 0.],\n        [0., 1., 0.],\n        [0., 1., 0.],\n        [0., 1., 0.],\n        [0., 1., 0.],\n        [0., 1., 0.],\n        [0., 1., 0.],\n        [0., 1., 0.],\n        [0., 1., 0.],\n        [0., 1., 0.],\n        [0., 1., 0.],\n        [0., 1., 0.],\n        [0., 1., 0.],\n        [0., 1., 0.],\n        [0., 1., 0.],\n        [0., 1., 0.],\n        [0., 1., 0.],\n        [0., 0., 1.],\n        [0., 0., 1.],\n        [0., 0., 1.],\n        [0., 0., 1.],\n        [0., 0., 1.],\n        [0., 0., 1.],\n        [0., 0., 1.],\n        [0., 0., 1.],\n        [0., 0., 1.],\n        [0., 0., 1.],\n        [0., 0., 1.],\n        [0., 0., 1.],\n        [0., 0., 1.],\n        [0., 0., 1.],\n        [0., 0., 1.],\n        [0., 0., 1.],\n        [0., 0., 1.],\n        [0., 0., 1.],\n        [0., 0., 1.],\n        [0., 0., 1.],\n        [0., 0., 1.],\n        [0., 0., 1.],\n        [0., 0., 1.],\n        [0., 0., 1.],\n        [0., 0., 1.]]))"
     },
     "execution_count": 46,
     "metadata": {},
     "output_type": "execute_result"
    }
   ],
   "source": [
    "X_train, Y_train"
   ],
   "metadata": {
    "collapsed": false,
    "ExecuteTime": {
     "start_time": "2023-04-16T22:23:57.398271Z",
     "end_time": "2023-04-16T22:23:57.436202Z"
    }
   }
  },
  {
   "cell_type": "code",
   "execution_count": null,
   "outputs": [],
   "source": [],
   "metadata": {
    "collapsed": false
   }
  }
 ],
 "metadata": {
  "kernelspec": {
   "display_name": "Python 3",
   "language": "python",
   "name": "python3"
  },
  "language_info": {
   "codemirror_mode": {
    "name": "ipython",
    "version": 2
   },
   "file_extension": ".py",
   "mimetype": "text/x-python",
   "name": "python",
   "nbconvert_exporter": "python",
   "pygments_lexer": "ipython2",
   "version": "2.7.6"
  }
 },
 "nbformat": 4,
 "nbformat_minor": 0
}
