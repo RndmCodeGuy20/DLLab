{
 "cells": [
  {
   "cell_type": "code",
   "execution_count": 11,
   "metadata": {
    "collapsed": true,
    "ExecuteTime": {
     "start_time": "2023-04-23T13:12:16.631584Z",
     "end_time": "2023-04-23T13:12:16.657603Z"
    }
   },
   "outputs": [],
   "source": [
    "import numpy as np\n",
    "import pandas as pd"
   ]
  },
  {
   "cell_type": "code",
   "execution_count": 26,
   "outputs": [
    {
     "data": {
      "text/plain": "array([1., 2., 3., 4.])"
     },
     "execution_count": 26,
     "metadata": {},
     "output_type": "execute_result"
    }
   ],
   "source": [
    "xi = np.array([1.0, 2.0, 3.0, 4.0])\n",
    "\n",
    "xi"
   ],
   "metadata": {
    "collapsed": false,
    "ExecuteTime": {
     "start_time": "2023-04-23T13:33:18.576294Z",
     "end_time": "2023-04-23T13:33:18.608322Z"
    }
   }
  },
  {
   "cell_type": "code",
   "execution_count": 4,
   "outputs": [
    {
     "data": {
      "text/plain": "array([[ 2.70523452,  1.71600006, -4.8760056 ,  4.24119236, -3.79942401,\n         0.04295801],\n       [-4.93368001,  1.53570148,  3.58124806,  1.87506588, -4.89846625,\n        -1.02859474],\n       [-0.43267736,  0.12918106, -4.01204749, -1.05921644, -0.98539418,\n         2.30193348],\n       [-1.99668168, -1.43146785,  3.04439953,  1.33188258,  1.26413578,\n         2.19592158]])"
     },
     "execution_count": 4,
     "metadata": {},
     "output_type": "execute_result"
    }
   ],
   "source": [
    "w_i_h = np.random.uniform(-5, 5, (4, 6))\n",
    "\n",
    "w_i_h"
   ],
   "metadata": {
    "collapsed": false,
    "ExecuteTime": {
     "start_time": "2023-04-23T13:09:31.938141Z",
     "end_time": "2023-04-23T13:09:31.977899Z"
    }
   }
  },
  {
   "cell_type": "code",
   "execution_count": 5,
   "outputs": [
    {
     "data": {
      "text/plain": "array([[ 3.24246528, -3.37047303, -3.91257213],\n       [ 3.05113773,  1.27702265,  2.19086315],\n       [-0.16646399,  1.65585065, -0.05544522],\n       [ 4.706693  ,  4.32141181, -0.98078229],\n       [ 2.16448837, -4.41748614,  4.36294911],\n       [-1.99655157,  0.85269802,  4.48269465]])"
     },
     "execution_count": 5,
     "metadata": {},
     "output_type": "execute_result"
    }
   ],
   "source": [
    "w_h_o = np.random.uniform(-5, 5, (6, 3))\n",
    "\n",
    "w_h_o"
   ],
   "metadata": {
    "collapsed": false,
    "ExecuteTime": {
     "start_time": "2023-04-23T13:09:36.314606Z",
     "end_time": "2023-04-23T13:09:36.385781Z"
    }
   }
  },
  {
   "cell_type": "code",
   "execution_count": 9,
   "outputs": [
    {
     "data": {
      "text/plain": "array([-16.44688431,  -0.55092521,   2.42794616,  10.14120511,\n       -11.49599591,  13.6752553 ])"
     },
     "execution_count": 9,
     "metadata": {},
     "output_type": "execute_result"
    }
   ],
   "source": [
    "h_o = np.dot(xi, w_i_h)\n",
    "\n",
    "h_o"
   ],
   "metadata": {
    "collapsed": false,
    "ExecuteTime": {
     "start_time": "2023-04-23T13:10:43.811920Z",
     "end_time": "2023-04-23T13:10:43.846134Z"
    }
   }
  },
  {
   "cell_type": "code",
   "execution_count": 10,
   "outputs": [
    {
     "data": {
      "text/plain": "array([-59.86832849, 165.0191414 ,  64.20723564])"
     },
     "execution_count": 10,
     "metadata": {},
     "output_type": "execute_result"
    }
   ],
   "source": [
    "xi_hat = np.dot(h_o, w_h_o)\n",
    "\n",
    "xi_hat"
   ],
   "metadata": {
    "collapsed": false,
    "ExecuteTime": {
     "start_time": "2023-04-23T13:10:59.457311Z",
     "end_time": "2023-04-23T13:10:59.479318Z"
    }
   }
  },
  {
   "cell_type": "code",
   "execution_count": 132,
   "outputs": [
    {
     "data": {
      "text/plain": "array([[5.1, 3.5, 1.4, 0.2, 'Iris-setosa'],\n       [4.9, 3.0, 1.4, 0.2, 'Iris-setosa'],\n       [4.7, 3.2, 1.3, 0.2, 'Iris-setosa'],\n       [4.6, 3.1, 1.5, 0.2, 'Iris-setosa'],\n       [5.0, 3.6, 1.4, 0.2, 'Iris-setosa'],\n       [5.4, 3.9, 1.7, 0.4, 'Iris-setosa'],\n       [4.6, 3.4, 1.4, 0.3, 'Iris-setosa'],\n       [5.0, 3.4, 1.5, 0.2, 'Iris-setosa'],\n       [4.4, 2.9, 1.4, 0.2, 'Iris-setosa'],\n       [4.9, 3.1, 1.5, 0.1, 'Iris-setosa'],\n       [5.4, 3.7, 1.5, 0.2, 'Iris-setosa'],\n       [4.8, 3.4, 1.6, 0.2, 'Iris-setosa'],\n       [4.8, 3.0, 1.4, 0.1, 'Iris-setosa'],\n       [4.3, 3.0, 1.1, 0.1, 'Iris-setosa'],\n       [5.8, 4.0, 1.2, 0.2, 'Iris-setosa'],\n       [5.7, 4.4, 1.5, 0.4, 'Iris-setosa'],\n       [5.4, 3.9, 1.3, 0.4, 'Iris-setosa'],\n       [5.1, 3.5, 1.4, 0.3, 'Iris-setosa'],\n       [5.7, 3.8, 1.7, 0.3, 'Iris-setosa'],\n       [5.1, 3.8, 1.5, 0.3, 'Iris-setosa'],\n       [5.4, 3.4, 1.7, 0.2, 'Iris-setosa'],\n       [5.1, 3.7, 1.5, 0.4, 'Iris-setosa'],\n       [4.6, 3.6, 1.0, 0.2, 'Iris-setosa'],\n       [5.1, 3.3, 1.7, 0.5, 'Iris-setosa'],\n       [4.8, 3.4, 1.9, 0.2, 'Iris-setosa'],\n       [5.0, 3.0, 1.6, 0.2, 'Iris-setosa'],\n       [5.0, 3.4, 1.6, 0.4, 'Iris-setosa'],\n       [5.2, 3.5, 1.5, 0.2, 'Iris-setosa'],\n       [5.2, 3.4, 1.4, 0.2, 'Iris-setosa'],\n       [4.7, 3.2, 1.6, 0.2, 'Iris-setosa'],\n       [4.8, 3.1, 1.6, 0.2, 'Iris-setosa'],\n       [5.4, 3.4, 1.5, 0.4, 'Iris-setosa'],\n       [5.2, 4.1, 1.5, 0.1, 'Iris-setosa'],\n       [5.5, 4.2, 1.4, 0.2, 'Iris-setosa'],\n       [4.9, 3.1, 1.5, 0.1, 'Iris-setosa'],\n       [5.0, 3.2, 1.2, 0.2, 'Iris-setosa'],\n       [5.5, 3.5, 1.3, 0.2, 'Iris-setosa'],\n       [4.9, 3.1, 1.5, 0.1, 'Iris-setosa'],\n       [4.4, 3.0, 1.3, 0.2, 'Iris-setosa'],\n       [5.1, 3.4, 1.5, 0.2, 'Iris-setosa'],\n       [5.0, 3.5, 1.3, 0.3, 'Iris-setosa'],\n       [4.5, 2.3, 1.3, 0.3, 'Iris-setosa'],\n       [4.4, 3.2, 1.3, 0.2, 'Iris-setosa'],\n       [5.0, 3.5, 1.6, 0.6, 'Iris-setosa'],\n       [5.1, 3.8, 1.9, 0.4, 'Iris-setosa'],\n       [4.8, 3.0, 1.4, 0.3, 'Iris-setosa'],\n       [5.1, 3.8, 1.6, 0.2, 'Iris-setosa'],\n       [4.6, 3.2, 1.4, 0.2, 'Iris-setosa'],\n       [5.3, 3.7, 1.5, 0.2, 'Iris-setosa'],\n       [5.0, 3.3, 1.4, 0.2, 'Iris-setosa'],\n       [7.0, 3.2, 4.7, 1.4, 'Iris-versicolor'],\n       [6.4, 3.2, 4.5, 1.5, 'Iris-versicolor'],\n       [6.9, 3.1, 4.9, 1.5, 'Iris-versicolor'],\n       [5.5, 2.3, 4.0, 1.3, 'Iris-versicolor'],\n       [6.5, 2.8, 4.6, 1.5, 'Iris-versicolor'],\n       [5.7, 2.8, 4.5, 1.3, 'Iris-versicolor'],\n       [6.3, 3.3, 4.7, 1.6, 'Iris-versicolor'],\n       [4.9, 2.4, 3.3, 1.0, 'Iris-versicolor'],\n       [6.6, 2.9, 4.6, 1.3, 'Iris-versicolor'],\n       [5.2, 2.7, 3.9, 1.4, 'Iris-versicolor'],\n       [5.0, 2.0, 3.5, 1.0, 'Iris-versicolor'],\n       [5.9, 3.0, 4.2, 1.5, 'Iris-versicolor'],\n       [6.0, 2.2, 4.0, 1.0, 'Iris-versicolor'],\n       [6.1, 2.9, 4.7, 1.4, 'Iris-versicolor'],\n       [5.6, 2.9, 3.6, 1.3, 'Iris-versicolor'],\n       [6.7, 3.1, 4.4, 1.4, 'Iris-versicolor'],\n       [5.6, 3.0, 4.5, 1.5, 'Iris-versicolor'],\n       [5.8, 2.7, 4.1, 1.0, 'Iris-versicolor'],\n       [6.2, 2.2, 4.5, 1.5, 'Iris-versicolor'],\n       [5.6, 2.5, 3.9, 1.1, 'Iris-versicolor'],\n       [5.9, 3.2, 4.8, 1.8, 'Iris-versicolor'],\n       [6.1, 2.8, 4.0, 1.3, 'Iris-versicolor'],\n       [6.3, 2.5, 4.9, 1.5, 'Iris-versicolor'],\n       [6.1, 2.8, 4.7, 1.2, 'Iris-versicolor'],\n       [6.4, 2.9, 4.3, 1.3, 'Iris-versicolor'],\n       [6.6, 3.0, 4.4, 1.4, 'Iris-versicolor'],\n       [6.8, 2.8, 4.8, 1.4, 'Iris-versicolor'],\n       [6.7, 3.0, 5.0, 1.7, 'Iris-versicolor'],\n       [6.0, 2.9, 4.5, 1.5, 'Iris-versicolor'],\n       [5.7, 2.6, 3.5, 1.0, 'Iris-versicolor'],\n       [5.5, 2.4, 3.8, 1.1, 'Iris-versicolor'],\n       [5.5, 2.4, 3.7, 1.0, 'Iris-versicolor'],\n       [5.8, 2.7, 3.9, 1.2, 'Iris-versicolor'],\n       [6.0, 2.7, 5.1, 1.6, 'Iris-versicolor'],\n       [5.4, 3.0, 4.5, 1.5, 'Iris-versicolor'],\n       [6.0, 3.4, 4.5, 1.6, 'Iris-versicolor'],\n       [6.7, 3.1, 4.7, 1.5, 'Iris-versicolor'],\n       [6.3, 2.3, 4.4, 1.3, 'Iris-versicolor'],\n       [5.6, 3.0, 4.1, 1.3, 'Iris-versicolor'],\n       [5.5, 2.5, 4.0, 1.3, 'Iris-versicolor'],\n       [5.5, 2.6, 4.4, 1.2, 'Iris-versicolor'],\n       [6.1, 3.0, 4.6, 1.4, 'Iris-versicolor'],\n       [5.8, 2.6, 4.0, 1.2, 'Iris-versicolor'],\n       [5.0, 2.3, 3.3, 1.0, 'Iris-versicolor'],\n       [5.6, 2.7, 4.2, 1.3, 'Iris-versicolor'],\n       [5.7, 3.0, 4.2, 1.2, 'Iris-versicolor'],\n       [5.7, 2.9, 4.2, 1.3, 'Iris-versicolor'],\n       [6.2, 2.9, 4.3, 1.3, 'Iris-versicolor'],\n       [5.1, 2.5, 3.0, 1.1, 'Iris-versicolor'],\n       [5.7, 2.8, 4.1, 1.3, 'Iris-versicolor'],\n       [6.3, 3.3, 6.0, 2.5, 'Iris-virginica'],\n       [5.8, 2.7, 5.1, 1.9, 'Iris-virginica'],\n       [7.1, 3.0, 5.9, 2.1, 'Iris-virginica'],\n       [6.3, 2.9, 5.6, 1.8, 'Iris-virginica'],\n       [6.5, 3.0, 5.8, 2.2, 'Iris-virginica'],\n       [7.6, 3.0, 6.6, 2.1, 'Iris-virginica'],\n       [4.9, 2.5, 4.5, 1.7, 'Iris-virginica'],\n       [7.3, 2.9, 6.3, 1.8, 'Iris-virginica'],\n       [6.7, 2.5, 5.8, 1.8, 'Iris-virginica'],\n       [7.2, 3.6, 6.1, 2.5, 'Iris-virginica'],\n       [6.5, 3.2, 5.1, 2.0, 'Iris-virginica'],\n       [6.4, 2.7, 5.3, 1.9, 'Iris-virginica'],\n       [6.8, 3.0, 5.5, 2.1, 'Iris-virginica'],\n       [5.7, 2.5, 5.0, 2.0, 'Iris-virginica'],\n       [5.8, 2.8, 5.1, 2.4, 'Iris-virginica'],\n       [6.4, 3.2, 5.3, 2.3, 'Iris-virginica'],\n       [6.5, 3.0, 5.5, 1.8, 'Iris-virginica'],\n       [7.7, 3.8, 6.7, 2.2, 'Iris-virginica'],\n       [7.7, 2.6, 6.9, 2.3, 'Iris-virginica'],\n       [6.0, 2.2, 5.0, 1.5, 'Iris-virginica'],\n       [6.9, 3.2, 5.7, 2.3, 'Iris-virginica'],\n       [5.6, 2.8, 4.9, 2.0, 'Iris-virginica'],\n       [7.7, 2.8, 6.7, 2.0, 'Iris-virginica'],\n       [6.3, 2.7, 4.9, 1.8, 'Iris-virginica'],\n       [6.7, 3.3, 5.7, 2.1, 'Iris-virginica'],\n       [7.2, 3.2, 6.0, 1.8, 'Iris-virginica'],\n       [6.2, 2.8, 4.8, 1.8, 'Iris-virginica'],\n       [6.1, 3.0, 4.9, 1.8, 'Iris-virginica'],\n       [6.4, 2.8, 5.6, 2.1, 'Iris-virginica'],\n       [7.2, 3.0, 5.8, 1.6, 'Iris-virginica'],\n       [7.4, 2.8, 6.1, 1.9, 'Iris-virginica'],\n       [7.9, 3.8, 6.4, 2.0, 'Iris-virginica'],\n       [6.4, 2.8, 5.6, 2.2, 'Iris-virginica'],\n       [6.3, 2.8, 5.1, 1.5, 'Iris-virginica'],\n       [6.1, 2.6, 5.6, 1.4, 'Iris-virginica'],\n       [7.7, 3.0, 6.1, 2.3, 'Iris-virginica'],\n       [6.3, 3.4, 5.6, 2.4, 'Iris-virginica'],\n       [6.4, 3.1, 5.5, 1.8, 'Iris-virginica'],\n       [6.0, 3.0, 4.8, 1.8, 'Iris-virginica'],\n       [6.9, 3.1, 5.4, 2.1, 'Iris-virginica'],\n       [6.7, 3.1, 5.6, 2.4, 'Iris-virginica'],\n       [6.9, 3.1, 5.1, 2.3, 'Iris-virginica'],\n       [5.8, 2.7, 5.1, 1.9, 'Iris-virginica'],\n       [6.8, 3.2, 5.9, 2.3, 'Iris-virginica'],\n       [6.7, 3.3, 5.7, 2.5, 'Iris-virginica'],\n       [6.7, 3.0, 5.2, 2.3, 'Iris-virginica'],\n       [6.3, 2.5, 5.0, 1.9, 'Iris-virginica'],\n       [6.5, 3.0, 5.2, 2.0, 'Iris-virginica'],\n       [6.2, 3.4, 5.4, 2.3, 'Iris-virginica'],\n       [5.9, 3.0, 5.1, 1.8, 'Iris-virginica']], dtype=object)"
     },
     "execution_count": 132,
     "metadata": {},
     "output_type": "execute_result"
    }
   ],
   "source": [
    "data = pd.read_csv('../data/iris.csv')\n",
    "data = data.drop(['Id'], axis=1)\n",
    "data.head()\n",
    "data = np.array(data)\n",
    "m, n = data.shape\n",
    "data"
   ],
   "metadata": {
    "collapsed": false,
    "ExecuteTime": {
     "start_time": "2023-04-23T15:06:41.161614Z",
     "end_time": "2023-04-23T15:06:41.198507Z"
    }
   }
  },
  {
   "cell_type": "code",
   "execution_count": 130,
   "outputs": [
    {
     "data": {
      "text/plain": "(array([[5.1, 3.5, 1.4, 0.2],\n        [4.9, 3.0, 1.4, 0.2],\n        [4.7, 3.2, 1.3, 0.2],\n        [4.6, 3.1, 1.5, 0.2],\n        [5.0, 3.6, 1.4, 0.2],\n        [5.4, 3.9, 1.7, 0.4],\n        [4.6, 3.4, 1.4, 0.3],\n        [5.0, 3.4, 1.5, 0.2],\n        [4.4, 2.9, 1.4, 0.2],\n        [4.9, 3.1, 1.5, 0.1],\n        [5.4, 3.7, 1.5, 0.2],\n        [4.8, 3.4, 1.6, 0.2],\n        [4.8, 3.0, 1.4, 0.1],\n        [4.3, 3.0, 1.1, 0.1],\n        [5.8, 4.0, 1.2, 0.2],\n        [5.7, 4.4, 1.5, 0.4],\n        [5.4, 3.9, 1.3, 0.4],\n        [5.1, 3.5, 1.4, 0.3],\n        [5.7, 3.8, 1.7, 0.3],\n        [5.1, 3.8, 1.5, 0.3],\n        [5.4, 3.4, 1.7, 0.2],\n        [5.1, 3.7, 1.5, 0.4],\n        [4.6, 3.6, 1.0, 0.2],\n        [5.1, 3.3, 1.7, 0.5],\n        [4.8, 3.4, 1.9, 0.2],\n        [5.0, 3.0, 1.6, 0.2],\n        [5.0, 3.4, 1.6, 0.4],\n        [5.2, 3.5, 1.5, 0.2],\n        [5.2, 3.4, 1.4, 0.2],\n        [4.7, 3.2, 1.6, 0.2],\n        [4.8, 3.1, 1.6, 0.2],\n        [5.4, 3.4, 1.5, 0.4],\n        [5.2, 4.1, 1.5, 0.1],\n        [5.5, 4.2, 1.4, 0.2],\n        [4.9, 3.1, 1.5, 0.1],\n        [5.0, 3.2, 1.2, 0.2],\n        [5.5, 3.5, 1.3, 0.2],\n        [4.9, 3.1, 1.5, 0.1],\n        [4.4, 3.0, 1.3, 0.2],\n        [5.1, 3.4, 1.5, 0.2],\n        [5.0, 3.5, 1.3, 0.3],\n        [4.5, 2.3, 1.3, 0.3],\n        [4.4, 3.2, 1.3, 0.2],\n        [5.0, 3.5, 1.6, 0.6],\n        [5.1, 3.8, 1.9, 0.4],\n        [4.8, 3.0, 1.4, 0.3],\n        [5.1, 3.8, 1.6, 0.2],\n        [4.6, 3.2, 1.4, 0.2],\n        [5.3, 3.7, 1.5, 0.2],\n        [5.0, 3.3, 1.4, 0.2],\n        [7.0, 3.2, 4.7, 1.4],\n        [6.4, 3.2, 4.5, 1.5],\n        [6.9, 3.1, 4.9, 1.5],\n        [5.5, 2.3, 4.0, 1.3],\n        [6.5, 2.8, 4.6, 1.5],\n        [5.7, 2.8, 4.5, 1.3],\n        [6.3, 3.3, 4.7, 1.6],\n        [4.9, 2.4, 3.3, 1.0],\n        [6.6, 2.9, 4.6, 1.3],\n        [5.2, 2.7, 3.9, 1.4],\n        [5.0, 2.0, 3.5, 1.0],\n        [5.9, 3.0, 4.2, 1.5],\n        [6.0, 2.2, 4.0, 1.0],\n        [6.1, 2.9, 4.7, 1.4],\n        [5.6, 2.9, 3.6, 1.3],\n        [6.7, 3.1, 4.4, 1.4],\n        [5.6, 3.0, 4.5, 1.5],\n        [5.8, 2.7, 4.1, 1.0],\n        [6.2, 2.2, 4.5, 1.5],\n        [5.6, 2.5, 3.9, 1.1],\n        [5.9, 3.2, 4.8, 1.8],\n        [6.1, 2.8, 4.0, 1.3],\n        [6.3, 2.5, 4.9, 1.5],\n        [6.1, 2.8, 4.7, 1.2],\n        [6.4, 2.9, 4.3, 1.3],\n        [6.6, 3.0, 4.4, 1.4],\n        [6.8, 2.8, 4.8, 1.4],\n        [6.7, 3.0, 5.0, 1.7],\n        [6.0, 2.9, 4.5, 1.5],\n        [5.7, 2.6, 3.5, 1.0],\n        [5.5, 2.4, 3.8, 1.1],\n        [5.5, 2.4, 3.7, 1.0],\n        [5.8, 2.7, 3.9, 1.2],\n        [6.0, 2.7, 5.1, 1.6],\n        [5.4, 3.0, 4.5, 1.5],\n        [6.0, 3.4, 4.5, 1.6],\n        [6.7, 3.1, 4.7, 1.5],\n        [6.3, 2.3, 4.4, 1.3],\n        [5.6, 3.0, 4.1, 1.3],\n        [5.5, 2.5, 4.0, 1.3],\n        [5.5, 2.6, 4.4, 1.2],\n        [6.1, 3.0, 4.6, 1.4],\n        [5.8, 2.6, 4.0, 1.2],\n        [5.0, 2.3, 3.3, 1.0],\n        [5.6, 2.7, 4.2, 1.3],\n        [5.7, 3.0, 4.2, 1.2],\n        [5.7, 2.9, 4.2, 1.3],\n        [6.2, 2.9, 4.3, 1.3],\n        [5.1, 2.5, 3.0, 1.1],\n        [5.7, 2.8, 4.1, 1.3],\n        [6.3, 3.3, 6.0, 2.5],\n        [5.8, 2.7, 5.1, 1.9],\n        [7.1, 3.0, 5.9, 2.1],\n        [6.3, 2.9, 5.6, 1.8],\n        [6.5, 3.0, 5.8, 2.2],\n        [7.6, 3.0, 6.6, 2.1],\n        [4.9, 2.5, 4.5, 1.7],\n        [7.3, 2.9, 6.3, 1.8],\n        [6.7, 2.5, 5.8, 1.8],\n        [7.2, 3.6, 6.1, 2.5],\n        [6.5, 3.2, 5.1, 2.0],\n        [6.4, 2.7, 5.3, 1.9],\n        [6.8, 3.0, 5.5, 2.1],\n        [5.7, 2.5, 5.0, 2.0],\n        [5.8, 2.8, 5.1, 2.4],\n        [6.4, 3.2, 5.3, 2.3],\n        [6.5, 3.0, 5.5, 1.8],\n        [7.7, 3.8, 6.7, 2.2],\n        [7.7, 2.6, 6.9, 2.3],\n        [6.0, 2.2, 5.0, 1.5],\n        [6.9, 3.2, 5.7, 2.3],\n        [5.6, 2.8, 4.9, 2.0],\n        [7.7, 2.8, 6.7, 2.0],\n        [6.3, 2.7, 4.9, 1.8],\n        [6.7, 3.3, 5.7, 2.1],\n        [7.2, 3.2, 6.0, 1.8],\n        [6.2, 2.8, 4.8, 1.8],\n        [6.1, 3.0, 4.9, 1.8],\n        [6.4, 2.8, 5.6, 2.1],\n        [7.2, 3.0, 5.8, 1.6],\n        [7.4, 2.8, 6.1, 1.9],\n        [7.9, 3.8, 6.4, 2.0],\n        [6.4, 2.8, 5.6, 2.2],\n        [6.3, 2.8, 5.1, 1.5],\n        [6.1, 2.6, 5.6, 1.4],\n        [7.7, 3.0, 6.1, 2.3],\n        [6.3, 3.4, 5.6, 2.4],\n        [6.4, 3.1, 5.5, 1.8],\n        [6.0, 3.0, 4.8, 1.8],\n        [6.9, 3.1, 5.4, 2.1],\n        [6.7, 3.1, 5.6, 2.4],\n        [6.9, 3.1, 5.1, 2.3],\n        [5.8, 2.7, 5.1, 1.9],\n        [6.8, 3.2, 5.9, 2.3],\n        [6.7, 3.3, 5.7, 2.5],\n        [6.7, 3.0, 5.2, 2.3],\n        [6.3, 2.5, 5.0, 1.9],\n        [6.5, 3.0, 5.2, 2.0],\n        [6.2, 3.4, 5.4, 2.3],\n        [5.9, 3.0, 5.1, 1.8]], dtype=object),\n array(['Iris-setosa', 'Iris-setosa', 'Iris-setosa', 'Iris-setosa',\n        'Iris-setosa', 'Iris-setosa', 'Iris-setosa', 'Iris-setosa',\n        'Iris-setosa', 'Iris-setosa', 'Iris-setosa', 'Iris-setosa',\n        'Iris-setosa', 'Iris-setosa', 'Iris-setosa', 'Iris-setosa',\n        'Iris-setosa', 'Iris-setosa', 'Iris-setosa', 'Iris-setosa',\n        'Iris-setosa', 'Iris-setosa', 'Iris-setosa', 'Iris-setosa',\n        'Iris-setosa', 'Iris-setosa', 'Iris-setosa', 'Iris-setosa',\n        'Iris-setosa', 'Iris-setosa', 'Iris-setosa', 'Iris-setosa',\n        'Iris-setosa', 'Iris-setosa', 'Iris-setosa', 'Iris-setosa',\n        'Iris-setosa', 'Iris-setosa', 'Iris-setosa', 'Iris-setosa',\n        'Iris-setosa', 'Iris-setosa', 'Iris-setosa', 'Iris-setosa',\n        'Iris-setosa', 'Iris-setosa', 'Iris-setosa', 'Iris-setosa',\n        'Iris-setosa', 'Iris-setosa', 'Iris-versicolor', 'Iris-versicolor',\n        'Iris-versicolor', 'Iris-versicolor', 'Iris-versicolor',\n        'Iris-versicolor', 'Iris-versicolor', 'Iris-versicolor',\n        'Iris-versicolor', 'Iris-versicolor', 'Iris-versicolor',\n        'Iris-versicolor', 'Iris-versicolor', 'Iris-versicolor',\n        'Iris-versicolor', 'Iris-versicolor', 'Iris-versicolor',\n        'Iris-versicolor', 'Iris-versicolor', 'Iris-versicolor',\n        'Iris-versicolor', 'Iris-versicolor', 'Iris-versicolor',\n        'Iris-versicolor', 'Iris-versicolor', 'Iris-versicolor',\n        'Iris-versicolor', 'Iris-versicolor', 'Iris-versicolor',\n        'Iris-versicolor', 'Iris-versicolor', 'Iris-versicolor',\n        'Iris-versicolor', 'Iris-versicolor', 'Iris-versicolor',\n        'Iris-versicolor', 'Iris-versicolor', 'Iris-versicolor',\n        'Iris-versicolor', 'Iris-versicolor', 'Iris-versicolor',\n        'Iris-versicolor', 'Iris-versicolor', 'Iris-versicolor',\n        'Iris-versicolor', 'Iris-versicolor', 'Iris-versicolor',\n        'Iris-versicolor', 'Iris-versicolor', 'Iris-versicolor',\n        'Iris-virginica', 'Iris-virginica', 'Iris-virginica',\n        'Iris-virginica', 'Iris-virginica', 'Iris-virginica',\n        'Iris-virginica', 'Iris-virginica', 'Iris-virginica',\n        'Iris-virginica', 'Iris-virginica', 'Iris-virginica',\n        'Iris-virginica', 'Iris-virginica', 'Iris-virginica',\n        'Iris-virginica', 'Iris-virginica', 'Iris-virginica',\n        'Iris-virginica', 'Iris-virginica', 'Iris-virginica',\n        'Iris-virginica', 'Iris-virginica', 'Iris-virginica',\n        'Iris-virginica', 'Iris-virginica', 'Iris-virginica',\n        'Iris-virginica', 'Iris-virginica', 'Iris-virginica',\n        'Iris-virginica', 'Iris-virginica', 'Iris-virginica',\n        'Iris-virginica', 'Iris-virginica', 'Iris-virginica',\n        'Iris-virginica', 'Iris-virginica', 'Iris-virginica',\n        'Iris-virginica', 'Iris-virginica', 'Iris-virginica',\n        'Iris-virginica', 'Iris-virginica', 'Iris-virginica',\n        'Iris-virginica', 'Iris-virginica', 'Iris-virginica',\n        'Iris-virginica', 'Iris-virginica'], dtype=object))"
     },
     "execution_count": 130,
     "metadata": {},
     "output_type": "execute_result"
    }
   ],
   "source": [
    "X = data[:, 0:4]\n",
    "Y = data[:, 4]\n",
    "\n",
    "X, Y"
   ],
   "metadata": {
    "collapsed": false,
    "ExecuteTime": {
     "start_time": "2023-04-23T15:06:32.722459Z",
     "end_time": "2023-04-23T15:06:32.738626Z"
    }
   }
  },
  {
   "cell_type": "code",
   "execution_count": 133,
   "outputs": [
    {
     "data": {
      "text/plain": "array([[1., 0., 0.],\n       [1., 0., 0.],\n       [1., 0., 0.],\n       [1., 0., 0.],\n       [1., 0., 0.],\n       [1., 0., 0.],\n       [1., 0., 0.],\n       [1., 0., 0.],\n       [1., 0., 0.],\n       [1., 0., 0.],\n       [1., 0., 0.],\n       [1., 0., 0.],\n       [1., 0., 0.],\n       [1., 0., 0.],\n       [1., 0., 0.],\n       [1., 0., 0.],\n       [1., 0., 0.],\n       [1., 0., 0.],\n       [1., 0., 0.],\n       [1., 0., 0.],\n       [1., 0., 0.],\n       [1., 0., 0.],\n       [1., 0., 0.],\n       [1., 0., 0.],\n       [1., 0., 0.],\n       [1., 0., 0.],\n       [1., 0., 0.],\n       [1., 0., 0.],\n       [1., 0., 0.],\n       [1., 0., 0.],\n       [1., 0., 0.],\n       [1., 0., 0.],\n       [1., 0., 0.],\n       [1., 0., 0.],\n       [1., 0., 0.],\n       [1., 0., 0.],\n       [1., 0., 0.],\n       [1., 0., 0.],\n       [1., 0., 0.],\n       [1., 0., 0.],\n       [1., 0., 0.],\n       [1., 0., 0.],\n       [1., 0., 0.],\n       [1., 0., 0.],\n       [1., 0., 0.],\n       [1., 0., 0.],\n       [1., 0., 0.],\n       [1., 0., 0.],\n       [1., 0., 0.],\n       [1., 0., 0.],\n       [0., 1., 0.],\n       [0., 1., 0.],\n       [0., 1., 0.],\n       [0., 1., 0.],\n       [0., 1., 0.],\n       [0., 1., 0.],\n       [0., 1., 0.],\n       [0., 1., 0.],\n       [0., 1., 0.],\n       [0., 1., 0.],\n       [0., 1., 0.],\n       [0., 1., 0.],\n       [0., 1., 0.],\n       [0., 1., 0.],\n       [0., 1., 0.],\n       [0., 1., 0.],\n       [0., 1., 0.],\n       [0., 1., 0.],\n       [0., 1., 0.],\n       [0., 1., 0.],\n       [0., 1., 0.],\n       [0., 1., 0.],\n       [0., 1., 0.],\n       [0., 1., 0.],\n       [0., 1., 0.],\n       [0., 1., 0.],\n       [0., 1., 0.],\n       [0., 1., 0.],\n       [0., 1., 0.],\n       [0., 1., 0.],\n       [0., 1., 0.],\n       [0., 1., 0.],\n       [0., 1., 0.],\n       [0., 1., 0.],\n       [0., 1., 0.],\n       [0., 1., 0.],\n       [0., 1., 0.],\n       [0., 1., 0.],\n       [0., 1., 0.],\n       [0., 1., 0.],\n       [0., 1., 0.],\n       [0., 1., 0.],\n       [0., 1., 0.],\n       [0., 1., 0.],\n       [0., 1., 0.],\n       [0., 1., 0.],\n       [0., 1., 0.],\n       [0., 1., 0.],\n       [0., 1., 0.],\n       [0., 1., 0.],\n       [0., 0., 1.],\n       [0., 0., 1.],\n       [0., 0., 1.],\n       [0., 0., 1.],\n       [0., 0., 1.],\n       [0., 0., 1.],\n       [0., 0., 1.],\n       [0., 0., 1.],\n       [0., 0., 1.],\n       [0., 0., 1.],\n       [0., 0., 1.],\n       [0., 0., 1.],\n       [0., 0., 1.],\n       [0., 0., 1.],\n       [0., 0., 1.],\n       [0., 0., 1.],\n       [0., 0., 1.],\n       [0., 0., 1.],\n       [0., 0., 1.],\n       [0., 0., 1.],\n       [0., 0., 1.],\n       [0., 0., 1.],\n       [0., 0., 1.],\n       [0., 0., 1.],\n       [0., 0., 1.],\n       [0., 0., 1.],\n       [0., 0., 1.],\n       [0., 0., 1.],\n       [0., 0., 1.],\n       [0., 0., 1.],\n       [0., 0., 1.],\n       [0., 0., 1.],\n       [0., 0., 1.],\n       [0., 0., 1.],\n       [0., 0., 1.],\n       [0., 0., 1.],\n       [0., 0., 1.],\n       [0., 0., 1.],\n       [0., 0., 1.],\n       [0., 0., 1.],\n       [0., 0., 1.],\n       [0., 0., 1.],\n       [0., 0., 1.],\n       [0., 0., 1.],\n       [0., 0., 1.],\n       [0., 0., 1.],\n       [0., 0., 1.],\n       [0., 0., 1.],\n       [0., 0., 1.],\n       [0., 0., 1.]])"
     },
     "execution_count": 133,
     "metadata": {},
     "output_type": "execute_result"
    }
   ],
   "source": [
    "label_map = lambda x: {'Iris-setosa': 0, 'Iris-versicolor': 1, 'Iris-virginica': 2}[x]\n",
    "\n",
    "# Use the lambda function to convert the labels to numerical values\n",
    "Y = np.array(list(map(label_map, Y)))\n",
    "\n",
    "y = np.zeros((len(Y), 3))\n",
    "\n",
    "for i, label in enumerate(Y):\n",
    "    y[i, label] = 1\n",
    "\n",
    "Y = y\n",
    "\n",
    "Y"
   ],
   "metadata": {
    "collapsed": false,
    "ExecuteTime": {
     "start_time": "2023-04-23T15:07:48.921951Z",
     "end_time": "2023-04-23T15:07:48.950949Z"
    }
   }
  },
  {
   "cell_type": "code",
   "execution_count": 124,
   "outputs": [
    {
     "data": {
      "text/plain": "array([[ 0.27250532,  2.96271064,  4.18104506,  2.72538005],\n       [-3.19405417, -4.4385762 ,  2.33039864,  1.45125009],\n       [-4.74588553,  2.64572976, -4.46038477,  1.4909977 ],\n       [-0.01168708,  3.3419592 ,  0.30185158, -2.42886753],\n       [-0.77304904, -1.17056352, -2.72425805,  4.69817106],\n       [ 1.00209987,  4.93164365, -3.11162471,  1.04269349]])"
     },
     "execution_count": 124,
     "metadata": {},
     "output_type": "execute_result"
    }
   ],
   "source": [
    "w_i_h = np.random.uniform(-5, 5, (6, 4))\n",
    "\n",
    "w_i_h"
   ],
   "metadata": {
    "collapsed": false,
    "ExecuteTime": {
     "start_time": "2023-04-23T14:49:18.544734Z",
     "end_time": "2023-04-23T14:49:18.576048Z"
    }
   }
  },
  {
   "cell_type": "code",
   "execution_count": 125,
   "outputs": [
    {
     "data": {
      "text/plain": "array([[-1.29281153,  2.65300145, -2.57114751,  0.44469038, -3.04867611,\n         3.8422334 ],\n       [-1.2721353 , -4.27257992, -0.44065671, -3.35896936,  2.91460488,\n         2.18154386],\n       [ 4.24921819,  2.13440948, -1.74802203, -2.70744528, -2.2223921 ,\n        -1.38581641]])"
     },
     "execution_count": 125,
     "metadata": {},
     "output_type": "execute_result"
    }
   ],
   "source": [
    "w_h_o = np.random.uniform(-5, 5, (3, 6))\n",
    "\n",
    "w_h_o"
   ],
   "metadata": {
    "collapsed": false,
    "ExecuteTime": {
     "start_time": "2023-04-23T14:49:19.663021Z",
     "end_time": "2023-04-23T14:49:19.683094Z"
    }
   }
  },
  {
   "cell_type": "code",
   "execution_count": 126,
   "outputs": [
    {
     "name": "stdout",
     "output_type": "stream",
     "text": [
      "accuracy: 40.67\n",
      "accuracy: 64.0\n",
      "accuracy: 64.67\n",
      "accuracy: 68.67\n",
      "accuracy: 69.33\n",
      "accuracy: 67.33\n",
      "accuracy: 66.67\n",
      "accuracy: 67.33\n",
      "accuracy: 67.33\n",
      "accuracy: 68.0\n",
      "accuracy: 68.67\n",
      "accuracy: 72.67\n",
      "accuracy: 75.33\n",
      "accuracy: 77.33\n",
      "accuracy: 80.0\n",
      "accuracy: 83.33\n",
      "accuracy: 83.33\n",
      "accuracy: 86.0\n",
      "accuracy: 88.0\n",
      "accuracy: 90.0\n",
      "accuracy: 90.0\n",
      "accuracy: 92.0\n",
      "accuracy: 94.0\n",
      "accuracy: 94.67\n",
      "accuracy: 94.67\n",
      "accuracy: 94.67\n",
      "accuracy: 96.0\n",
      "accuracy: 96.0\n",
      "accuracy: 96.0\n",
      "accuracy: 96.0\n"
     ]
    }
   ],
   "source": [
    "accuracy = []\n",
    "X = X.astype(np.float64)\n",
    "for epoch in range(30):\n",
    "    nr_correct = 0\n",
    "    for x, y in zip(X, Y):\n",
    "        x.shape = (4, 1)\n",
    "        y.shape = (3, 1)\n",
    "        # print(x.T, y.T, end=\" -> \")\n",
    "        # print(x.shape)\n",
    "        h_o = w_i_h @ x\n",
    "        # print(f\"h_o : {h_o.shape}\")\n",
    "        h = 1 / (1 + np.exp(-h_o))\n",
    "        # print(f\"h : {h.shape}\")\n",
    "\n",
    "        y_ = w_h_o @ h\n",
    "        # print(f\"y_ : {y_.shape}\")\n",
    "        y_hat = 1 / (1 + np.exp(-y_))\n",
    "        # print(f\"y_hat : {y_hat.shape}\")\n",
    "\n",
    "        error = 1 / len(y_hat) * np.sum((y_hat - y) ** 2, axis=0)\n",
    "        # print(f\"error : {error.shape}\")\n",
    "        nr_correct += int(np.argmax(y_hat) == np.argmax(y))\n",
    "        # print(nr_correct, end=\"\\n\")\n",
    "\n",
    "        delta_y = y_hat - y\n",
    "        # print(f\"delta_y : {delta_y.shape}\")\n",
    "        w_h_o += -0.01 * delta_y @ h.T\n",
    "        # print(f\"w_h_o : {w_h_o.shape}\")\n",
    "\n",
    "        delta_h = w_h_o.T @ delta_y * (h * (1 - h))\n",
    "        # print(f\"delta_h : {delta_h.shape}\")\n",
    "        # print(f\"x : {type(x.T[0][0])}, delta_h : {type(delta_h[0][0])}\")\n",
    "        w_i_h += -0.01 * np.dot(delta_h, x.T)\n",
    "        # print(f\"w_i_h : {w_i_h.shape}\")\n",
    "\n",
    "    print(f\"accuracy: {round((nr_correct / len(Y)) * 100, 2)}\")\n",
    "    accuracy.append(round((nr_correct / len(Y)) * 100, 2))"
   ],
   "metadata": {
    "collapsed": false,
    "ExecuteTime": {
     "start_time": "2023-04-23T14:49:21.202576Z",
     "end_time": "2023-04-23T14:49:21.366123Z"
    }
   }
  },
  {
   "cell_type": "code",
   "execution_count": 127,
   "outputs": [
    {
     "name": "stdout",
     "output_type": "stream",
     "text": [
      "[40.67, 64.0, 64.67, 68.67, 69.33, 67.33, 66.67, 67.33, 67.33, 68.0, 68.67, 72.67, 75.33, 77.33, 80.0, 83.33, 83.33, 86.0, 88.0, 90.0, 90.0, 92.0, 94.0, 94.67, 94.67, 94.67, 96.0, 96.0, 96.0, 96.0]\n"
     ]
    }
   ],
   "source": [
    "print(accuracy)"
   ],
   "metadata": {
    "collapsed": false,
    "ExecuteTime": {
     "start_time": "2023-04-23T14:49:25.931702Z",
     "end_time": "2023-04-23T14:49:25.963704Z"
    }
   }
  },
  {
   "cell_type": "code",
   "execution_count": 128,
   "outputs": [
    {
     "data": {
      "text/plain": "[<matplotlib.lines.Line2D at 0x1b32ee2abe0>]"
     },
     "execution_count": 128,
     "metadata": {},
     "output_type": "execute_result"
    },
    {
     "data": {
      "text/plain": "<Figure size 640x480 with 1 Axes>",
      "image/png": "[encoded data removed]"
     },
     "metadata": {},
     "output_type": "display_data"
    }
   ],
   "source": [
    "import matplotlib.pyplot as plt\n",
    "\n",
    "plt.plot(accuracy)"
   ],
   "metadata": {
    "collapsed": false,
    "ExecuteTime": {
     "start_time": "2023-04-23T14:49:51.937919Z",
     "end_time": "2023-04-23T14:49:53.194547Z"
    }
   }
  },
  {
   "cell_type": "code",
   "execution_count": null,
   "outputs": [],
   "source": [],
   "metadata": {
    "collapsed": false
   }
  }
 ],
 "metadata": {
  "kernelspec": {
   "display_name": "Python 3",
   "language": "python",
   "name": "python3"
  },
  "language_info": {
   "codemirror_mode": {
    "name": "ipython",
    "version": 2
   },
   "file_extension": ".py",
   "mimetype": "text/x-python",
   "name": "python",
   "nbconvert_exporter": "python",
   "pygments_lexer": "ipython2",
   "version": "2.7.6"
  }
 },
 "nbformat": 4,
 "nbformat_minor": 0
}
